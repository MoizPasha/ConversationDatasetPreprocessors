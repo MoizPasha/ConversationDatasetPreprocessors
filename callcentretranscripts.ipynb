{
 "cells": [
  {
   "cell_type": "code",
   "execution_count": 1,
   "id": "6eb021b6",
   "metadata": {
    "_cell_guid": "b1076dfc-b9ad-4769-8c92-a6c4dae69d19",
    "_uuid": "8f2839f25d086af736a60e9eeb907d3b93b6e0e5",
    "execution": {
     "iopub.execute_input": "2025-07-08T12:44:45.474566Z",
     "iopub.status.busy": "2025-07-08T12:44:45.474257Z",
     "iopub.status.idle": "2025-07-08T12:44:47.515980Z",
     "shell.execute_reply": "2025-07-08T12:44:47.514745Z"
    },
    "papermill": {
     "duration": 2.04895,
     "end_time": "2025-07-08T12:44:47.518688",
     "exception": false,
     "start_time": "2025-07-08T12:44:45.469738",
     "status": "completed"
    },
    "tags": []
   },
   "outputs": [],
   "source": [
    "# This Python 3 environment comes with many helpful analytics libraries installed\n",
    "# It is defined by the kaggle/python Docker image: https://github.com/kaggle/docker-python\n",
    "# For example, here's several helpful packages to load\n",
    "\n",
    "import numpy as np # linear algebra\n",
    "import pandas as pd # data processing, CSV file I/O (e.g. pd.read_csv)\n",
    "\n",
    "# Input data files are available in the read-only \"../input/\" directory\n",
    "# For example, running this (by clicking run or pressing Shift+Enter) will list all files under the input directory\n",
    "files_l = []\n",
    "files_r = []\n",
    "import os\n",
    "for dirname, _, filenames in os.walk('/kaggle/input'):\n",
    "    for filename in filenames:\n",
    "        if 'Left' in filename:\n",
    "            files_l.append(os.path.join(dirname, filename))\n",
    "        else:\n",
    "            files_r.append(os.path.join(dirname, filename))"
   ]
  },
  {
   "cell_type": "code",
   "execution_count": 2,
   "id": "9bc57115",
   "metadata": {
    "execution": {
     "iopub.execute_input": "2025-07-08T12:44:47.528624Z",
     "iopub.status.busy": "2025-07-08T12:44:47.528016Z",
     "iopub.status.idle": "2025-07-08T12:44:47.534839Z",
     "shell.execute_reply": "2025-07-08T12:44:47.533401Z"
    },
    "papermill": {
     "duration": 0.013712,
     "end_time": "2025-07-08T12:44:47.537077",
     "exception": false,
     "start_time": "2025-07-08T12:44:47.523365",
     "status": "completed"
    },
    "tags": []
   },
   "outputs": [],
   "source": [
    "if ( len(files_r)!= len(files_l)):\n",
    "    print(\"Incomplete Conversation Detected\")\n",
    "else:\n",
    "    files_r.sort()\n",
    "    files_l.sort()"
   ]
  },
  {
   "cell_type": "code",
   "execution_count": 3,
   "id": "26803eba",
   "metadata": {
    "execution": {
     "iopub.execute_input": "2025-07-08T12:44:47.544263Z",
     "iopub.status.busy": "2025-07-08T12:44:47.543429Z",
     "iopub.status.idle": "2025-07-08T12:44:47.683143Z",
     "shell.execute_reply": "2025-07-08T12:44:47.681769Z"
    },
    "papermill": {
     "duration": 0.145344,
     "end_time": "2025-07-08T12:44:47.684692",
     "exception": false,
     "start_time": "2025-07-08T12:44:47.539348",
     "status": "completed"
    },
    "tags": []
   },
   "outputs": [
    {
     "name": "stdout",
     "output_type": "stream",
     "text": [
      "Extracted Conversations: 16\n"
     ]
    }
   ],
   "source": [
    "import json\n",
    "\n",
    "output_data = {}\n",
    "conv_id = 70000\n",
    "\n",
    "for left, right in zip(files_l, files_r):\n",
    "    with open(left, 'r') as f:\n",
    "        client = json.load(f)\n",
    "    with open(right, 'r') as f:\n",
    "        agent = json.load(f)\n",
    "\n",
    "    client_messages = client['value']['segments']\n",
    "    agent_messages = agent['value']['segments']\n",
    "\n",
    "    messages = []\n",
    "    turn = None\n",
    "    message = []\n",
    "\n",
    "    mID = 1\n",
    "    i = j = 0\n",
    "    try:\n",
    "        for _ in range(len(client_messages) + len(agent_messages)):\n",
    "            client_id = int(client_messages[i]['segmentId']) if i < len(client_messages) else float('inf')\n",
    "            agent_id = int(agent_messages[j]['segmentId']) if j < len(agent_messages) else float('inf')\n",
    "    \n",
    "            curr = 0 if client_id < agent_id else 1\n",
    "    \n",
    "            if curr == 0:\n",
    "                content = client_messages[i].get('transcriptionData', {}).get('content', '').strip()\n",
    "                i += 1\n",
    "            else:\n",
    "                content = agent_messages[j].get('transcriptionData', {}).get('content', '').strip()\n",
    "                j += 1\n",
    "    \n",
    "            if content:\n",
    "                message.append(content)\n",
    "    \n",
    "            if turn != curr:\n",
    "                if message:\n",
    "                    messages.append({\n",
    "                        'from': 'Client' if curr == 0 else 'Agent',\n",
    "                        'message_id': mID,\n",
    "                        'message': ' '.join(message)\n",
    "                    })\n",
    "                    message = []\n",
    "                    mID += 1\n",
    "                turn = curr\n",
    "    \n",
    "        output_data[conv_id] = messages\n",
    "        conv_id += 1\n",
    "    except:\n",
    "        print(left,right,i,j)\n",
    "print(f\"Extracted Conversations: {len(output_data)}\")\n"
   ]
  },
  {
   "cell_type": "code",
   "execution_count": 4,
   "id": "0ec54c69",
   "metadata": {
    "execution": {
     "iopub.execute_input": "2025-07-08T12:44:47.689981Z",
     "iopub.status.busy": "2025-07-08T12:44:47.689655Z",
     "iopub.status.idle": "2025-07-08T12:44:47.693705Z",
     "shell.execute_reply": "2025-07-08T12:44:47.692882Z"
    },
    "papermill": {
     "duration": 0.008422,
     "end_time": "2025-07-08T12:44:47.695261",
     "exception": false,
     "start_time": "2025-07-08T12:44:47.686839",
     "status": "completed"
    },
    "tags": []
   },
   "outputs": [],
   "source": [
    "#with open('CallCentreTranscripts.json','w') as f:\n",
    "#    json.dump(output_data,f,indent=2)"
   ]
  },
  {
   "cell_type": "code",
   "execution_count": null,
   "id": "91650612",
   "metadata": {
    "papermill": {
     "duration": 0.001665,
     "end_time": "2025-07-08T12:44:47.698995",
     "exception": false,
     "start_time": "2025-07-08T12:44:47.697330",
     "status": "completed"
    },
    "tags": []
   },
   "outputs": [],
   "source": []
  }
 ],
 "metadata": {
  "kaggle": {
   "accelerator": "none",
   "dataSources": [
    {
     "datasetId": 7826111,
     "sourceId": 12409451,
     "sourceType": "datasetVersion"
    }
   ],
   "dockerImageVersionId": 31089,
   "isGpuEnabled": false,
   "isInternetEnabled": true,
   "language": "python",
   "sourceType": "notebook"
  },
  "kernelspec": {
   "display_name": "Python 3",
   "language": "python",
   "name": "python3"
  },
  "language_info": {
   "codemirror_mode": {
    "name": "ipython",
    "version": 3
   },
   "file_extension": ".py",
   "mimetype": "text/x-python",
   "name": "python",
   "nbconvert_exporter": "python",
   "pygments_lexer": "ipython3",
   "version": "3.11.13"
  },
  "papermill": {
   "default_parameters": {},
   "duration": 7.846931,
   "end_time": "2025-07-08T12:44:48.220562",
   "environment_variables": {},
   "exception": null,
   "input_path": "__notebook__.ipynb",
   "output_path": "__notebook__.ipynb",
   "parameters": {},
   "start_time": "2025-07-08T12:44:40.373631",
   "version": "2.6.0"
  }
 },
 "nbformat": 4,
 "nbformat_minor": 5
}
