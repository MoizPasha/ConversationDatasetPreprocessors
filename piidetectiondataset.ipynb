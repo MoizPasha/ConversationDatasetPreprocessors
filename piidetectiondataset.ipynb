{
 "cells": [
  {
   "cell_type": "code",
   "execution_count": 1,
   "id": "86db1de6",
   "metadata": {
    "_cell_guid": "b1076dfc-b9ad-4769-8c92-a6c4dae69d19",
    "_uuid": "8f2839f25d086af736a60e9eeb907d3b93b6e0e5",
    "execution": {
     "iopub.execute_input": "2025-07-08T11:17:50.596024Z",
     "iopub.status.busy": "2025-07-08T11:17:50.595661Z",
     "iopub.status.idle": "2025-07-08T11:17:54.353953Z",
     "shell.execute_reply": "2025-07-08T11:17:54.352945Z"
    },
    "papermill": {
     "duration": 3.764266,
     "end_time": "2025-07-08T11:17:54.355641",
     "exception": false,
     "start_time": "2025-07-08T11:17:50.591375",
     "status": "completed"
    },
    "tags": []
   },
   "outputs": [],
   "source": [
    "# This Python 3 environment comes with many helpful analytics libraries installed\n",
    "# It is defined by the kaggle/python Docker image: https://github.com/kaggle/docker-python\n",
    "# For example, here's several helpful packages to load\n",
    "\n",
    "import numpy as np # linear algebra\n",
    "import pandas as pd # data processing, CSV file I/O (e.g. pd.read_csv)\n",
    "\n",
    "# Input data files are available in the read-only \"../input/\" directory\n",
    "# For example, running this (by clicking run or pressing Shift+Enter) will list all files under the input directory\n",
    "\n",
    "files = []\n",
    "import os\n",
    "for dirname, _, filenames in os.walk('/kaggle/input'):\n",
    "    for filename in filenames:\n",
    "        files.append(os.path.join(dirname, filename))\n",
    "\n",
    "# You can write up to 20GB to the current directory (/kaggle/working/) that gets preserved as output when you create a version using \"Save & Run All\" \n",
    "# You can also write temporary files to /kaggle/temp/, but they won't be saved outside of the current session"
   ]
  },
  {
   "cell_type": "code",
   "execution_count": 2,
   "id": "1fa7cbc9",
   "metadata": {
    "execution": {
     "iopub.execute_input": "2025-07-08T11:17:54.361315Z",
     "iopub.status.busy": "2025-07-08T11:17:54.360521Z",
     "iopub.status.idle": "2025-07-08T11:17:54.364750Z",
     "shell.execute_reply": "2025-07-08T11:17:54.364090Z"
    },
    "papermill": {
     "duration": 0.008362,
     "end_time": "2025-07-08T11:17:54.366110",
     "exception": false,
     "start_time": "2025-07-08T11:17:54.357748",
     "status": "completed"
    },
    "tags": []
   },
   "outputs": [],
   "source": [
    "import pandas as pd"
   ]
  },
  {
   "cell_type": "code",
   "execution_count": 3,
   "id": "498a1ccc",
   "metadata": {
    "execution": {
     "iopub.execute_input": "2025-07-08T11:17:54.371037Z",
     "iopub.status.busy": "2025-07-08T11:17:54.370327Z",
     "iopub.status.idle": "2025-07-08T11:18:14.628242Z",
     "shell.execute_reply": "2025-07-08T11:18:14.627354Z"
    },
    "papermill": {
     "duration": 20.262002,
     "end_time": "2025-07-08T11:18:14.629942",
     "exception": false,
     "start_time": "2025-07-08T11:17:54.367940",
     "status": "completed"
    },
    "tags": []
   },
   "outputs": [
    {
     "name": "stdout",
     "output_type": "stream",
     "text": [
      "Extracted Conversations : 845\n"
     ]
    }
   ],
   "source": [
    "output_data = {}\n",
    "conv_id = 60000\n",
    "\n",
    "for file in files:\n",
    "    df = pd.read_excel(file,header=None)\n",
    "    if (len(df)>=8 and not df.isnull().values.any()): # ignoring files with missing data\n",
    "        \n",
    "        df= df[[0, 1]] # some files have unimportant data in later columns so ignoring them\n",
    "        df.columns = ['Agent','Message'] \n",
    "        mID = 1\n",
    "        messages = []\n",
    "        for _,row in df.iterrows():\n",
    "            messages.append({\n",
    "                'from': row['Agent'],\n",
    "                'message_id': mID,\n",
    "                'message': str(row['Message'])  #some messages only contain date which break json.dump\n",
    "            })\n",
    "            mID+=1\n",
    "        output_data[conv_id] = messages\n",
    "        conv_id +=1\n",
    "        \n",
    "print(f'Extracted Conversations : {len(output_data)}')"
   ]
  },
  {
   "cell_type": "code",
   "execution_count": 4,
   "id": "232c43de",
   "metadata": {
    "execution": {
     "iopub.execute_input": "2025-07-08T11:18:14.635832Z",
     "iopub.status.busy": "2025-07-08T11:18:14.634784Z",
     "iopub.status.idle": "2025-07-08T11:18:14.639017Z",
     "shell.execute_reply": "2025-07-08T11:18:14.638222Z"
    },
    "papermill": {
     "duration": 0.008686,
     "end_time": "2025-07-08T11:18:14.640599",
     "exception": false,
     "start_time": "2025-07-08T11:18:14.631913",
     "status": "completed"
    },
    "tags": []
   },
   "outputs": [],
   "source": [
    "#import json\n",
    "\n",
    "#ith open('PIIDetectionDataset.json','w') as f:\n",
    "#    json.dump(output_data,f,indent = 2)"
   ]
  }
 ],
 "metadata": {
  "kaggle": {
   "accelerator": "none",
   "dataSources": [
    {
     "datasetId": 7825674,
     "sourceId": 12408834,
     "sourceType": "datasetVersion"
    }
   ],
   "dockerImageVersionId": 31089,
   "isGpuEnabled": false,
   "isInternetEnabled": true,
   "language": "python",
   "sourceType": "notebook"
  },
  "kernelspec": {
   "display_name": "Python 3",
   "language": "python",
   "name": "python3"
  },
  "language_info": {
   "codemirror_mode": {
    "name": "ipython",
    "version": 3
   },
   "file_extension": ".py",
   "mimetype": "text/x-python",
   "name": "python",
   "nbconvert_exporter": "python",
   "pygments_lexer": "ipython3",
   "version": "3.11.13"
  },
  "papermill": {
   "default_parameters": {},
   "duration": 30.340079,
   "end_time": "2025-07-08T11:18:15.262225",
   "environment_variables": {},
   "exception": null,
   "input_path": "__notebook__.ipynb",
   "output_path": "__notebook__.ipynb",
   "parameters": {},
   "start_time": "2025-07-08T11:17:44.922146",
   "version": "2.6.0"
  }
 },
 "nbformat": 4,
 "nbformat_minor": 5
}
