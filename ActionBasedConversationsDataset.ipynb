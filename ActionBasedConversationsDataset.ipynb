{
 "cells": [
  {
   "cell_type": "code",
   "execution_count": 1,
   "id": "792942d8",
   "metadata": {
    "execution": {
     "iopub.execute_input": "2025-07-04T20:18:11.805587Z",
     "iopub.status.busy": "2025-07-04T20:18:11.805155Z",
     "iopub.status.idle": "2025-07-04T20:18:16.825612Z",
     "shell.execute_reply": "2025-07-04T20:18:16.824660Z"
    },
    "papermill": {
     "duration": 5.025559,
     "end_time": "2025-07-04T20:18:16.827273",
     "exception": false,
     "start_time": "2025-07-04T20:18:11.801714",
     "status": "completed"
    },
    "tags": []
   },
   "outputs": [],
   "source": [
    "import json\n",
    "with open('/kaggle/input/abcd-dataset/abcd.json','r') as f:\n",
    "    data = json.load(f)"
   ]
  },
  {
   "cell_type": "code",
   "execution_count": 2,
   "id": "58723a01",
   "metadata": {
    "execution": {
     "iopub.execute_input": "2025-07-04T20:18:16.833102Z",
     "iopub.status.busy": "2025-07-04T20:18:16.832706Z",
     "iopub.status.idle": "2025-07-04T20:18:16.839250Z",
     "shell.execute_reply": "2025-07-04T20:18:16.838365Z"
    },
    "papermill": {
     "duration": 0.011134,
     "end_time": "2025-07-04T20:18:16.840785",
     "exception": false,
     "start_time": "2025-07-04T20:18:16.829651",
     "status": "completed"
    },
    "tags": []
   },
   "outputs": [
    {
     "data": {
      "text/plain": [
       "['customer', 'Username: cminh730']"
      ]
     },
     "execution_count": 2,
     "metadata": {},
     "output_type": "execute_result"
    }
   ],
   "source": [
    "data['train'][0]['original'][9]"
   ]
  },
  {
   "cell_type": "code",
   "execution_count": 3,
   "id": "e60590c0",
   "metadata": {
    "execution": {
     "iopub.execute_input": "2025-07-04T20:18:16.845196Z",
     "iopub.status.busy": "2025-07-04T20:18:16.844935Z",
     "iopub.status.idle": "2025-07-04T20:18:16.985441Z",
     "shell.execute_reply": "2025-07-04T20:18:16.984449Z"
    },
    "papermill": {
     "duration": 0.144459,
     "end_time": "2025-07-04T20:18:16.987138",
     "exception": false,
     "start_time": "2025-07-04T20:18:16.842679",
     "status": "completed"
    },
    "tags": []
   },
   "outputs": [],
   "source": [
    "output_data = {}\n",
    "conv_id = 20000 # Custom Start number\n",
    "\n",
    "for split_name, split_data in data.items():\n",
    "    for dialogues in split_data:\n",
    "        message = []\n",
    "        mID = 1\n",
    "        for msg in dialogues['original']:\n",
    "            message.append({\n",
    "                'from': msg[0],\n",
    "                'message_id': mID,\n",
    "                'message': msg[1]\n",
    "            })\n",
    "            mID += 1\n",
    "        \n",
    "        if len(message) >= 8:\n",
    "            output_data[conv_id] = message\n",
    "            conv_id += 1"
   ]
  },
  {
   "cell_type": "code",
   "execution_count": 4,
   "id": "9dd803b6",
   "metadata": {
    "execution": {
     "iopub.execute_input": "2025-07-04T20:18:16.991886Z",
     "iopub.status.busy": "2025-07-04T20:18:16.991616Z",
     "iopub.status.idle": "2025-07-04T20:18:16.995684Z",
     "shell.execute_reply": "2025-07-04T20:18:16.994754Z"
    },
    "papermill": {
     "duration": 0.007979,
     "end_time": "2025-07-04T20:18:16.997048",
     "exception": false,
     "start_time": "2025-07-04T20:18:16.989069",
     "status": "completed"
    },
    "tags": []
   },
   "outputs": [],
   "source": [
    "# Save to JSON file\n",
    "#with open('ABCD.json', 'w') as f:\n",
    "#    json.dump(output_data, f, indent=2)"
   ]
  }
 ],
 "metadata": {
  "kaggle": {
   "accelerator": "none",
   "dataSources": [
    {
     "datasetId": 7780496,
     "sourceId": 12341930,
     "sourceType": "datasetVersion"
    }
   ],
   "dockerImageVersionId": 31040,
   "isGpuEnabled": false,
   "isInternetEnabled": true,
   "language": "python",
   "sourceType": "notebook"
  },
  "kernelspec": {
   "display_name": "Python 3",
   "language": "python",
   "name": "python3"
  },
  "language_info": {
   "codemirror_mode": {
    "name": "ipython",
    "version": 3
   },
   "file_extension": ".py",
   "mimetype": "text/x-python",
   "name": "python",
   "nbconvert_exporter": "python",
   "pygments_lexer": "ipython3",
   "version": "3.11.11"
  },
  "papermill": {
   "default_parameters": {},
   "duration": 11.003678,
   "end_time": "2025-07-04T20:18:18.221498",
   "environment_variables": {},
   "exception": null,
   "input_path": "__notebook__.ipynb",
   "output_path": "__notebook__.ipynb",
   "parameters": {},
   "start_time": "2025-07-04T20:18:07.217820",
   "version": "2.6.0"
  }
 },
 "nbformat": 4,
 "nbformat_minor": 5
}
